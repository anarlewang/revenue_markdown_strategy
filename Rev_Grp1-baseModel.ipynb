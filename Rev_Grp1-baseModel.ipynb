{
 "cells": [
  {
   "cell_type": "code",
   "execution_count": 1,
   "id": "ac95080e",
   "metadata": {},
   "outputs": [],
   "source": [
    "import gurobipy as gp\n",
    "from gurobipy import GRB"
   ]
  },
  {
   "cell_type": "code",
   "execution_count": 2,
   "id": "da1d5145",
   "metadata": {},
   "outputs": [
    {
     "name": "stdout",
     "output_type": "stream",
     "text": [
      "\n",
      "--------------------------------------------\n",
      "Warning: your license will expire in 10 days\n",
      "--------------------------------------------\n",
      "\n",
      "Academic license - for non-commercial use only - expires 2022-05-18\n",
      "Using license file C:\\Users\\aishw\\gurobi.lic\n"
     ]
    }
   ],
   "source": [
    "# We create our model\n",
    "model = gp.Model('Promotions')"
   ]
  },
  {
   "cell_type": "code",
   "execution_count": 3,
   "id": "421bf8db",
   "metadata": {},
   "outputs": [],
   "source": [
    "#sales = [90, 89, 11, 143, 103, 154, 116, 207, 133, 133, 134, 131, 168, 200, 105]\n",
    "disc = [1, 0.9, 0.8, 0.6]\n",
    "demand_rate = [1, 1.05, 1.1, 1.2]\n",
    "price = 60\n",
    "initial_demand = 50\n",
    "units = 2000\n",
    "#contract_upper_threshold = pd.read_excel(file_loc,sheet_name='Contract Upper Threshold',header=2, na_values=['NA'], usecols=\"B:F\")"
   ]
  },
  {
   "cell_type": "code",
   "execution_count": 4,
   "id": "17db6bb9",
   "metadata": {},
   "outputs": [],
   "source": [
    "#ind = [(i,j) for i in range(15) for j in range(4)]\n",
    "\n",
    "p = model.addVars(15, vtype = GRB.CONTINUOUS, name = [\"price_\"+str(i) for i in range(1,16)])\n",
    "pd = model.addVars(15, 4, vtype = GRB.BINARY, name = \"decide_price_\")\n",
    "d = model.addVars(15, vtype = GRB.CONTINUOUS, name = [\"demand_\"+str(i) for i in range(1,16)])\n",
    "y = model.addVars(15, lb = -GRB.INFINITY,vtype = GRB.INTEGER, name = [\"bounding_demand_\"+str(i) for i in range(1,16)])"
   ]
  },
  {
   "cell_type": "code",
   "execution_count": 5,
   "id": "f00513ed",
   "metadata": {},
   "outputs": [],
   "source": [
    "#revenue = sum(D[m,z]*r.iloc[0,z] for m in range(1, M) for z in range(Z))\n",
    "\n",
    "rev = sum(p[i]*y[i] for i in range(15))\n",
    "\n",
    "model.setObjective(rev, GRB.MAXIMIZE)"
   ]
  },
  {
   "cell_type": "code",
   "execution_count": 6,
   "id": "8e1469df",
   "metadata": {},
   "outputs": [],
   "source": [
    "model.addConstr(d[0]==initial_demand)\n",
    "model.addConstr(y[0]==initial_demand)\n",
    "\n",
    "for i in range(15):\n",
    "    model.addConstr(sum(pd[i,j] for j in range(4))==1, name = \"Only_one_discount_\"+str(i))\n",
    "    \n",
    "for i in range(14):\n",
    "    model.addConstr(sum(pd[i,j]*disc[j]*price for j in range(4))>=sum(pd[i+1,j]*disc[j]*price for j in range(4)), name = \"maintain_or_reduce_discount_\"+str(i))\n",
    "    model.addConstr(d[i+1]==(sum(pd[i,j]*demand_rate[j]*d[i] for j in range(4))-(1.5*i+1)), name = \"pred_demand_\"+str(i))\n",
    "    model.addConstr(p[i+1]==sum(pd[i+1,j]*disc[j]*price for j in range(4)), name = \"price_\"+str(i))\n",
    "    model.addConstr(d[i+1]-0.999<=y[i+1], name = \"demand_bound_low_\"+str(i))\n",
    "    model.addConstr(y[i+1]<=d[i+1], name = \"demand_bound_high_\"+str(i))\n",
    "    "
   ]
  },
  {
   "cell_type": "code",
   "execution_count": 7,
   "id": "e6f6febc",
   "metadata": {},
   "outputs": [
    {
     "data": {
      "text/plain": [
       "<gurobi.Constr *Awaiting Model Update*>"
      ]
     },
     "execution_count": 7,
     "metadata": {},
     "output_type": "execute_result"
    }
   ],
   "source": [
    "model.addConstr(sum(d[i] for i in range(15))<=units+2, name = \"Total_stock\")\n",
    "model.addConstr(sum(y[i] for i in range(15))<=units, name = \"Total_stock_bounding\")\n",
    "model.addConstr(pd[0,0]==1)\n",
    "model.addConstr(p[0]==60)"
   ]
  },
  {
   "cell_type": "code",
   "execution_count": 8,
   "id": "629754ca",
   "metadata": {},
   "outputs": [
    {
     "name": "stdout",
     "output_type": "stream",
     "text": [
      "Changed value of parameter NonConvex to 2\n",
      "   Prev: -1  Min: -1  Max: 2  Default: -1\n",
      "Gurobi Optimizer version 9.1.2 build v9.1.2rc0 (win64)\n",
      "Thread count: 6 physical cores, 12 logical processors, using up to 12 threads\n",
      "Optimize a model with 77 rows, 105 columns and 332 nonzeros\n",
      "Model fingerprint: 0xddc5e0c3\n",
      "Model has 15 quadratic objective terms\n",
      "Model has 14 quadratic constraints\n",
      "Variable types: 30 continuous, 75 integer (60 binary)\n",
      "Coefficient statistics:\n",
      "  Matrix range     [1e+00, 6e+01]\n",
      "  QMatrix range    [1e+00, 1e+00]\n",
      "  QLMatrix range   [1e+00, 1e+00]\n",
      "  Objective range  [0e+00, 0e+00]\n",
      "  QObjective range [2e+00, 2e+00]\n",
      "  Bounds range     [1e+00, 1e+00]\n",
      "  RHS range        [1e+00, 2e+03]\n",
      "  QRHS range       [1e+00, 2e+01]\n",
      "Presolve removed 8 rows and 12 columns\n",
      "Presolve time: 0.00s\n",
      "Presolved: 252 rows, 155 columns, 806 nonzeros\n",
      "Presolved model has 13 bilinear constraint(s)\n",
      "Variable types: 75 continuous, 80 integer (54 binary)\n",
      "\n",
      "Root relaxation: objective 1.199954e+05, 198 iterations, 0.00 seconds\n",
      "\n",
      "    Nodes    |    Current Node    |     Objective Bounds      |     Work\n",
      " Expl Unexpl |  Obj  Depth IntInf | Incumbent    BestBd   Gap | It/Node Time\n",
      "\n",
      "     0     0 119993.296    0   59          - 119993.296      -     -    0s\n",
      "     0     0 119940.096    0   49          - 119940.096      -     -    0s\n",
      "     0     0 119827.933    0   65          - 119827.933      -     -    0s\n",
      "     0     0 119774.425    0   62          - 119774.425      -     -    0s\n",
      "     0     0 118373.457    0   68          - 118373.457      -     -    0s\n",
      "     0     0 118338.639    0   73          - 118338.639      -     -    0s\n",
      "     0     0 117380.170    0   63          - 117380.170      -     -    0s\n",
      "     0     0 117354.420    0   72          - 117354.420      -     -    0s\n",
      "     0     0 115566.322    0   82          - 115566.322      -     -    0s\n",
      "     0     0 115543.264    0   66          - 115543.264      -     -    0s\n",
      "     0     0 114280.893    0   78          - 114280.893      -     -    0s\n",
      "     0     0 114273.478    0   82          - 114273.478      -     -    0s\n",
      "     0     0 114237.767    0   71          - 114237.767      -     -    0s\n",
      "     0     0 110093.752    0   66          - 110093.752      -     -    0s\n",
      "H    0     0                    8928.0000000 110093.752  1133%     -    0s\n",
      "H    0     0                    34452.000000 110093.752   220%     -    0s\n",
      "     0     2 110093.752    0   66 34452.0000 110093.752   220%     -    0s\n",
      "*   42    26               6    50412.000000 98729.6746  95.8%  37.0    0s\n",
      "\n",
      "Cutting planes:\n",
      "  Cover: 9\n",
      "  Implied bound: 48\n",
      "  Clique: 12\n",
      "  MIR: 5\n",
      "  Flow cover: 22\n",
      "  Zero half: 1\n",
      "  RLT: 20\n",
      "  Relax-and-lift: 19\n",
      "\n",
      "Explored 150 nodes (3831 simplex iterations) in 0.32 seconds\n",
      "Thread count was 12 (of 12 available processors)\n",
      "\n",
      "Solution count 3: 50412 34452 8928 \n",
      "\n",
      "Optimal solution found (tolerance 1.00e-04)\n",
      "Best objective 5.041200000002e+04, best bound 5.041200000002e+04, gap 0.0000%\n"
     ]
    }
   ],
   "source": [
    "model.params.NonConvex = 2\n",
    "model.optimize()"
   ]
  },
  {
   "cell_type": "code",
   "execution_count": 9,
   "id": "51e74dd7",
   "metadata": {},
   "outputs": [
    {
     "name": "stdout",
     "output_type": "stream",
     "text": [
      "\n",
      "    Variable            X \n",
      "-------------------------\n",
      "     price_1           60 \n",
      "     price_2           36 \n",
      "     price_3           36 \n",
      "     price_4           36 \n",
      "     price_5           36 \n",
      "     price_6           36 \n",
      "     price_7           36 \n",
      "     price_8           36 \n",
      "     price_9           36 \n",
      "    price_10           36 \n",
      "    price_11           36 \n",
      "    price_12           36 \n",
      "    price_13           36 \n",
      "    price_14           36 \n",
      "    price_15           36 \n",
      "decide_price_[0,0]            1 \n",
      "decide_price_[1,3]            1 \n",
      "decide_price_[2,3]            1 \n",
      "decide_price_[3,3]            1 \n",
      "decide_price_[4,3]            1 \n",
      "decide_price_[5,3]            1 \n",
      "decide_price_[6,3]            1 \n",
      "decide_price_[7,3]            1 \n",
      "decide_price_[8,3]            1 \n",
      "decide_price_[9,3]            1 \n",
      "decide_price_[10,3]            1 \n",
      "decide_price_[11,3]            1 \n",
      "decide_price_[12,3]            1 \n",
      "decide_price_[13,3]            1 \n",
      "decide_price_[14,3]            1 \n",
      "    demand_1           50 \n",
      "    demand_2           49 \n",
      "    demand_3         56.3 \n",
      "    demand_4        63.56 \n",
      "    demand_5       70.772 \n",
      "    demand_6      77.9264 \n",
      "    demand_7      85.0117 \n",
      "    demand_8       92.014 \n",
      "    demand_9      98.9168 \n",
      "   demand_10        105.7 \n",
      "   demand_11       112.34 \n",
      "   demand_12      118.808 \n",
      "   demand_13       125.07 \n",
      "   demand_14      131.084 \n",
      "   demand_15      136.801 \n",
      "bounding_demand_1           50 \n",
      "bounding_demand_2           49 \n",
      "bounding_demand_3           56 \n",
      "bounding_demand_4           63 \n",
      "bounding_demand_5           70 \n",
      "bounding_demand_6           77 \n",
      "bounding_demand_7           85 \n",
      "bounding_demand_8           92 \n",
      "bounding_demand_9           98 \n",
      "bounding_demand_10          105 \n",
      "bounding_demand_11          112 \n",
      "bounding_demand_12          118 \n",
      "bounding_demand_13          125 \n",
      "bounding_demand_14          131 \n",
      "bounding_demand_15          136 \n"
     ]
    }
   ],
   "source": [
    "if model.status == GRB.OPTIMAL:\n",
    "    model.printAttr('X')"
   ]
  },
  {
   "cell_type": "code",
   "execution_count": 10,
   "id": "b15c0e5d",
   "metadata": {},
   "outputs": [],
   "source": [
    "model.write('model.lp')"
   ]
  },
  {
   "cell_type": "code",
   "execution_count": 11,
   "id": "1921c7e8",
   "metadata": {},
   "outputs": [],
   "source": [
    "def sen_report(model):\n",
    "    print('Sensitivity Analysis (SA)\\n ObjVal =', model.ObjVal)\n",
    "    #model.printAttr(['X', 'Obj', 'SAObjLow', 'SAObjUp'])\n",
    "    #model.printAttr(['X', 'RC', 'LB', 'SALBLow', 'SALBUp', 'UB', 'SAUBLow', 'SAUBUp'])\n",
    "    model.printAttr(['Sense', 'Slack', 'Pi', 'RHS', 'SARHSLow', 'SARHSUp']) # Pi = shadow price\n",
    "    # NOTE: printAttr prints only rows with at least one NON-ZERO value, e.g. model.printAttr('X') prints only non-zero variable values"
   ]
  },
  {
   "cell_type": "code",
   "execution_count": 12,
   "id": "f92da76e",
   "metadata": {},
   "outputs": [
    {
     "name": "stdout",
     "output_type": "stream",
     "text": [
      "Sensitivity Analysis (SA)\n",
      " ObjVal = 50412.000000016706\n",
      "\n",
      "  Constraint        Sense        Slack           Pi          RHS     SARHSLow      SARHSUp \n",
      "------------------------------------------------------------------------------------------\n"
     ]
    },
    {
     "ename": "GurobiError",
     "evalue": "Unable to retrieve attribute 'Pi'",
     "output_type": "error",
     "traceback": [
      "\u001b[1;31m---------------------------------------------------------------------------\u001b[0m",
      "\u001b[1;31mGurobiError\u001b[0m                               Traceback (most recent call last)",
      "\u001b[1;32m<ipython-input-12-931f478d74d6>\u001b[0m in \u001b[0;36m<module>\u001b[1;34m\u001b[0m\n\u001b[1;32m----> 1\u001b[1;33m \u001b[0msen_report\u001b[0m\u001b[1;33m(\u001b[0m\u001b[0mmodel\u001b[0m\u001b[1;33m)\u001b[0m\u001b[1;33m\u001b[0m\u001b[1;33m\u001b[0m\u001b[0m\n\u001b[0m",
      "\u001b[1;32m<ipython-input-11-4761d0228dac>\u001b[0m in \u001b[0;36msen_report\u001b[1;34m(model)\u001b[0m\n\u001b[0;32m      3\u001b[0m     \u001b[1;31m#model.printAttr(['X', 'Obj', 'SAObjLow', 'SAObjUp'])\u001b[0m\u001b[1;33m\u001b[0m\u001b[1;33m\u001b[0m\u001b[1;33m\u001b[0m\u001b[0m\n\u001b[0;32m      4\u001b[0m     \u001b[1;31m#model.printAttr(['X', 'RC', 'LB', 'SALBLow', 'SALBUp', 'UB', 'SAUBLow', 'SAUBUp'])\u001b[0m\u001b[1;33m\u001b[0m\u001b[1;33m\u001b[0m\u001b[1;33m\u001b[0m\u001b[0m\n\u001b[1;32m----> 5\u001b[1;33m     \u001b[0mmodel\u001b[0m\u001b[1;33m.\u001b[0m\u001b[0mprintAttr\u001b[0m\u001b[1;33m(\u001b[0m\u001b[1;33m[\u001b[0m\u001b[1;34m'Sense'\u001b[0m\u001b[1;33m,\u001b[0m \u001b[1;34m'Slack'\u001b[0m\u001b[1;33m,\u001b[0m \u001b[1;34m'Pi'\u001b[0m\u001b[1;33m,\u001b[0m \u001b[1;34m'RHS'\u001b[0m\u001b[1;33m,\u001b[0m \u001b[1;34m'SARHSLow'\u001b[0m\u001b[1;33m,\u001b[0m \u001b[1;34m'SARHSUp'\u001b[0m\u001b[1;33m]\u001b[0m\u001b[1;33m)\u001b[0m \u001b[1;31m# Pi = shadow price\u001b[0m\u001b[1;33m\u001b[0m\u001b[1;33m\u001b[0m\u001b[0m\n\u001b[0m\u001b[0;32m      6\u001b[0m     \u001b[1;31m# NOTE: printAttr prints only rows with at least one NON-ZERO value, e.g. model.printAttr('X') prints only non-zero variable values\u001b[0m\u001b[1;33m\u001b[0m\u001b[1;33m\u001b[0m\u001b[1;33m\u001b[0m\u001b[0m\n",
      "\u001b[1;32msrc\\gurobipy\\model.pxi\u001b[0m in \u001b[0;36mgurobipy.Model.printAttr\u001b[1;34m()\u001b[0m\n",
      "\u001b[1;32msrc\\gurobipy\\model.pxi\u001b[0m in \u001b[0;36mgurobipy.Model.getAttr\u001b[1;34m()\u001b[0m\n",
      "\u001b[1;32msrc\\gurobipy\\attrutil.pxi\u001b[0m in \u001b[0;36mgurobipy.__gettypedattrlist\u001b[1;34m()\u001b[0m\n",
      "\u001b[1;31mGurobiError\u001b[0m: Unable to retrieve attribute 'Pi'"
     ]
    }
   ],
   "source": [
    "sen_report(model)"
   ]
  },
  {
   "cell_type": "code",
   "execution_count": null,
   "id": "b5de1fe4",
   "metadata": {},
   "outputs": [],
   "source": []
  }
 ],
 "metadata": {
  "kernelspec": {
   "display_name": "Python 3",
   "language": "python",
   "name": "python3"
  },
  "language_info": {
   "codemirror_mode": {
    "name": "ipython",
    "version": 3
   },
   "file_extension": ".py",
   "mimetype": "text/x-python",
   "name": "python",
   "nbconvert_exporter": "python",
   "pygments_lexer": "ipython3",
   "version": "3.8.8"
  }
 },
 "nbformat": 4,
 "nbformat_minor": 5
}
